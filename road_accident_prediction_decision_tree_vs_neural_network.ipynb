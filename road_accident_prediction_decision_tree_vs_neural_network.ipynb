{
  "nbformat": 4,
  "nbformat_minor": 0,
  "metadata": {
    "colab": {
      "provenance": []
    },
    "kernelspec": {
      "name": "python3",
      "display_name": "Python 3"
    },
    "language_info": {
      "name": "python"
    }
  },
  "cells": [
    {
      "cell_type": "code",
      "source": [
        "import pandas as pd\n",
        "import numpy as np\n",
        "import matplotlib.pyplot as plt\n",
        "import seaborn as sns\n",
        "\n",
        "from sklearn.model_selection import train_test_split\n",
        "from sklearn.preprocessing import LabelEncoder, RobustScaler\n",
        "from sklearn.tree import DecisionTreeClassifier\n",
        "from sklearn.metrics import accuracy_score, confusion_matrix, classification_report\n",
        "from sklearn.impute import SimpleImputer\n",
        "from imblearn.over_sampling import SMOTE\n",
        "\n",
        "from tensorflow.keras.models import Sequential\n",
        "from tensorflow.keras.layers import Dense, Dropout, ReLU, BatchNormalization\n",
        "from tensorflow.keras.utils import to_categorical\n",
        "from tensorflow.keras.callbacks import EarlyStopping\n",
        "from tensorflow.keras.optimizers import Adam\n",
        "\n",
        "#Load and preprocess data\n",
        "accident_df = pd.read_csv(\"Accident_Information.csv\")\n",
        "vehicle_df = pd.read_csv(\"Vehicle_Information.csv\")\n",
        "data = pd.merge(accident_df, vehicle_df, on=\"Accident_Index\", how=\"inner\")\n",
        "data.drop(columns=[\"Accident_Index\"], inplace=True)\n",
        "\n",
        "#Impute missing values\n",
        "imputer = SimpleImputer(strategy='most_frequent')\n",
        "data = pd.DataFrame(imputer.fit_transform(data), columns=data.columns)\n",
        "\n",
        "#Encode categorical columns\n",
        "label_encoders = {}\n",
        "for col in data.select_dtypes(include=[\"object\"]).columns:\n",
        "    le = LabelEncoder()\n",
        "    data[col] = le.fit_transform(data[col])\n",
        "    label_encoders[col] = le\n",
        "\n",
        "#Features and labels\n",
        "target_column = \"Accident_Severity\"\n",
        "X = data.drop(columns=[target_column])\n",
        "y = data[target_column]\n",
        "\n",
        "#SMOTE balancing\n",
        "smote = SMOTE(random_state=42)\n",
        "X_resampled, y_resampled = smote.fit_resample(X, y)\n",
        "\n",
        "#Split data for both models\n",
        "X_train, X_test, y_train, y_test = train_test_split(X_resampled, y_resampled, test_size=0.2, random_state=42)\n",
        "\n",
        "# Decision Tree Model\n",
        "dt_model = DecisionTreeClassifier(random_state=42)\n",
        "dt_model.fit(X_train, y_train)\n",
        "y_pred_dt = dt_model.predict(X_test)\n",
        "accuracy_dt = accuracy_score(y_test, y_pred_dt)\n",
        "print(f\"[Decision Tree] Accuracy: {accuracy_dt:.2f}\")\n",
        "\n",
        "#Neural Network Model\n",
        "#One-hot encode labels\n",
        "y_train_cat = to_categorical(y_train)\n",
        "y_test_cat = to_categorical(y_test)\n",
        "\n",
        "#Robust scaling (better for outliers)\n",
        "rscaler = RobustScaler()\n",
        "X_train_scaled = rscaler.fit_transform(X_train)\n",
        "X_test_scaled = rscaler.transform(X_test)\n",
        "\n",
        "#Define neural network\n",
        "nn_model = Sequential()\n",
        "nn_model.add(Dense(128, input_dim=X_train_scaled.shape[1]))\n",
        "nn_model.add(BatchNormalization())\n",
        "nn_model.add(ReLU())\n",
        "nn_model.add(Dropout(0.3))\n",
        "\n",
        "nn_model.add(Dense(64))\n",
        "nn_model.add(BatchNormalization())\n",
        "nn_model.add(ReLU())\n",
        "nn_model.add(Dropout(0.3))\n",
        "\n",
        "nn_model.add(Dense(32))\n",
        "nn_model.add(ReLU())\n",
        "\n",
        "nn_model.add(Dense(3, activation=\"softmax\"))\n",
        "\n",
        "#Compile model\n",
        "opt = Adam(learning_rate=0.0005)\n",
        "nn_model.compile(loss=\"categorical_crossentropy\", optimizer=opt, metrics=[\"accuracy\"])\n",
        "\n",
        "#Train model\n",
        "early_stop = EarlyStopping(monitor='val_accuracy', patience=10, restore_best_weights=True)\n",
        "history = nn_model.fit(\n",
        "    X_train_scaled, y_train_cat,\n",
        "    validation_data=(X_test_scaled, y_test_cat),\n",
        "    epochs=100,\n",
        "    batch_size=64,\n",
        "    callbacks=[early_stop],\n",
        "    verbose=0\n",
        ")\n",
        "\n",
        "#Evaluate model\n",
        "y_pred_nn = np.argmax(nn_model.predict(X_test_scaled), axis=1)\n",
        "accuracy_nn = accuracy_score(y_test, y_pred_nn)\n",
        "print(f\"[Improved Neural Network] Accuracy: {accuracy_nn:.2f}\")\n",
        "\n",
        "#Accuracy Comparison Plot\n",
        "plt.figure(figsize=(6, 4))\n",
        "models = ['Decision Tree', 'Neural Network']\n",
        "accuracies = [accuracy_dt, accuracy_nn]\n",
        "colors = ['skyblue', 'salmon']\n",
        "\n",
        "sns.barplot(x=models, y=accuracies, palette=colors)\n",
        "plt.title(\"Model Accuracy Comparison\")\n",
        "plt.ylabel(\"Accuracy\")\n",
        "plt.ylim(0, 1)\n",
        "for i, acc in enumerate(accuracies):\n",
        "    plt.text(i, acc + 0.02, f\"{acc:.2f}\", ha='center', fontsize=12)\n",
        "plt.show()"
      ],
      "metadata": {
        "colab": {
          "base_uri": "https://localhost:8080/",
          "height": 581
        },
        "id": "j35_Fp6dGkVO",
        "outputId": "1ed00a7d-e6c4-43b5-e00c-f58f1142b465"
      },
      "execution_count": null,
      "outputs": [
        {
          "output_type": "stream",
          "name": "stdout",
          "text": [
            "[Decision Tree] Accuracy: 0.87\n"
          ]
        },
        {
          "output_type": "stream",
          "name": "stderr",
          "text": [
            "/usr/local/lib/python3.11/dist-packages/keras/src/layers/core/dense.py:87: UserWarning: Do not pass an `input_shape`/`input_dim` argument to a layer. When using Sequential models, prefer using an `Input(shape)` object as the first layer in the model instead.\n",
            "  super().__init__(activity_regularizer=activity_regularizer, **kwargs)\n"
          ]
        },
        {
          "output_type": "stream",
          "name": "stdout",
          "text": [
            "\u001b[1m1399/1399\u001b[0m \u001b[32m━━━━━━━━━━━━━━━━━━━━\u001b[0m\u001b[37m\u001b[0m \u001b[1m2s\u001b[0m 1ms/step\n",
            "[Improved Neural Network] Accuracy: 0.83\n"
          ]
        },
        {
          "output_type": "stream",
          "name": "stderr",
          "text": [
            "<ipython-input-2-51a00434a9de>:108: FutureWarning: \n",
            "\n",
            "Passing `palette` without assigning `hue` is deprecated and will be removed in v0.14.0. Assign the `x` variable to `hue` and set `legend=False` for the same effect.\n",
            "\n",
            "  sns.barplot(x=models, y=accuracies, palette=colors)\n"
          ]
        },
        {
          "output_type": "display_data",
          "data": {
            "text/plain": [
              "<Figure size 600x400 with 1 Axes>"
            ],
            "image/png": "[encoded data removed]"
          },
          "metadata": {}
        }
      ]
    }
  ]
}